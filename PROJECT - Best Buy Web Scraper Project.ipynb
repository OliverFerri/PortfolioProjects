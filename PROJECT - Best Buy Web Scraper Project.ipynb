{
 "cells": [
  {
   "cell_type": "markdown",
   "id": "a207453e",
   "metadata": {},
   "source": [
    "# Best Buy Web Scraper Project"
   ]
  },
  {
   "cell_type": "code",
   "execution_count": 2,
   "id": "4067f9ae",
   "metadata": {},
   "outputs": [],
   "source": [
    "from bs4 import BeautifulSoup\n",
    "import requests\n",
    "import time\n",
    "import datetime\n",
    "import csv\n",
    "import pandas as pd\n",
    "\n",
    "import smtplib"
   ]
  },
  {
   "cell_type": "code",
   "execution_count": 5,
   "id": "6c490ac2",
   "metadata": {},
   "outputs": [
    {
     "name": "stdout",
     "output_type": "stream",
     "text": [
      "\n",
      "                   Star Ocean The Second Story R - Nintendo Switch\n",
      "                  \n"
     ]
    }
   ],
   "source": [
    "# Connect to website\n",
    "\n",
    "url = 'https://www.bestbuy.com/site/star-ocean-the-second-story-r-nintendo-switch/6550485.p?skuId=6550485'\n",
    "\n",
    "headers = {\"User-Agent\": \"Mozilla/5.0 (Windows NT 10.0; Win64; x64) AppleWebKit/537.36 (KHTML, like Gecko) Chrome/117.0.0.0 Safari/537.36\"}\n",
    "\n",
    "page = requests.get(url, headers=headers)\n",
    "\n",
    "soup1 = BeautifulSoup(page.content, \"html.parser\")\n",
    "\n",
    "soup2 = BeautifulSoup(soup1.prettify(),\"html.parser\")\n",
    "\n",
    "title = soup2.find(class_='heading-5 v-fw-regular').get_text()\n",
    "price = soup2.find(class_='priceView-hero-price priceView-customer-price').get_text()\n",
    "\n",
    "\n",
    "#print(title)\n",
    "#print(price)\n"
   ]
  },
  {
   "cell_type": "code",
   "execution_count": 62,
   "id": "34299cdf",
   "metadata": {},
   "outputs": [],
   "source": [
    "# Strips the date and title to clean them up. Running the price strip will continue to shave off digits so becareful.\n",
    "\n",
    "#price = price.strip()[1:6] \n",
    "#title = title.strip() "
   ]
  },
  {
   "cell_type": "code",
   "execution_count": 63,
   "id": "31c359dd",
   "metadata": {},
   "outputs": [
    {
     "name": "stdout",
     "output_type": "stream",
     "text": [
      "49.99\n",
      "Star Ocean The Second Story R - Nintendo Switch\n"
     ]
    }
   ],
   "source": [
    "print(price)\n",
    "print(title)"
   ]
  },
  {
   "cell_type": "code",
   "execution_count": 64,
   "id": "625a33fb",
   "metadata": {},
   "outputs": [
    {
     "name": "stdout",
     "output_type": "stream",
     "text": [
      "2023-10-12\n"
     ]
    }
   ],
   "source": [
    "# Creates a date stamp to show today's date.\n",
    "\n",
    "today = datetime.date.today()\n",
    "print (today)"
   ]
  },
  {
   "cell_type": "code",
   "execution_count": 77,
   "id": "1d12eb1c",
   "metadata": {},
   "outputs": [
    {
     "name": "stdout",
     "output_type": "stream",
     "text": [
      "11/02/2023\n"
     ]
    }
   ],
   "source": [
    "# Pulls the release date from Best Buy. Needed to use find_all because multiple items used the same class.\n",
    "\n",
    "release_date = soup2.find_all(class_='product-data-value body-copy')[1].text.strip()\n",
    "print(release_date)"
   ]
  },
  {
   "cell_type": "code",
   "execution_count": 82,
   "id": "1766b8f3",
   "metadata": {},
   "outputs": [
    {
     "name": "stdout",
     "output_type": "stream",
     "text": [
      "6550485\n"
     ]
    }
   ],
   "source": [
    "# Pulls the product information from Best Buy.\n",
    "\n",
    "sku = soup2.find_all(class_='product-data-value body-copy')[0].text.strip()\n",
    "print(sku)"
   ]
  },
  {
   "cell_type": "code",
   "execution_count": 86,
   "id": "26cd6e1d",
   "metadata": {},
   "outputs": [
    {
     "name": "stdout",
     "output_type": "stream",
     "text": [
      "Nintendo Switch\n"
     ]
    }
   ],
   "source": [
    "platform = soup2.find(class_='hover-info').text.strip()\n",
    "print(platform)"
   ]
  },
  {
   "cell_type": "code",
   "execution_count": 89,
   "id": "dcb186aa",
   "metadata": {},
   "outputs": [],
   "source": [
    "# Creates a csv file and writes initial data to it.\n",
    "\n",
    "header = ['SKU', 'Title', 'Price', 'Platform','Release Date', 'Date']\n",
    "data = [sku, title, price, platform, release_date, today]\n",
    "\n",
    "with open(r'C:\\Users\\theim\\Downloads\\PandASS\\BestBuyWebScraperDataset.csv', 'w', newline='', encoding='UTF8') as f:\n",
    "    writer = csv.writer(f)\n",
    "    writer.writerow(header)\n",
    "    writer.writerow(data)"
   ]
  },
  {
   "cell_type": "code",
   "execution_count": 94,
   "id": "bebe37d2",
   "metadata": {},
   "outputs": [
    {
     "data": {
      "text/html": [
       "<div>\n",
       "<style scoped>\n",
       "    .dataframe tbody tr th:only-of-type {\n",
       "        vertical-align: middle;\n",
       "    }\n",
       "\n",
       "    .dataframe tbody tr th {\n",
       "        vertical-align: top;\n",
       "    }\n",
       "\n",
       "    .dataframe thead th {\n",
       "        text-align: right;\n",
       "    }\n",
       "</style>\n",
       "<table border=\"1\" class=\"dataframe\">\n",
       "  <thead>\n",
       "    <tr style=\"text-align: right;\">\n",
       "      <th></th>\n",
       "      <th>SKU</th>\n",
       "      <th>Title</th>\n",
       "      <th>Price</th>\n",
       "      <th>Platform</th>\n",
       "      <th>Release Date</th>\n",
       "      <th>Date</th>\n",
       "    </tr>\n",
       "  </thead>\n",
       "  <tbody>\n",
       "    <tr>\n",
       "      <th>0</th>\n",
       "      <td>6550485</td>\n",
       "      <td>Star Ocean The Second Story R - Nintendo Switch</td>\n",
       "      <td>49.99</td>\n",
       "      <td>Nintendo Switch</td>\n",
       "      <td>11/02/2023</td>\n",
       "      <td>2023-10-12</td>\n",
       "    </tr>\n",
       "    <tr>\n",
       "      <th>1</th>\n",
       "      <td>6550485</td>\n",
       "      <td>Star Ocean The Second Story R - Nintendo Switch</td>\n",
       "      <td>49.99</td>\n",
       "      <td>Nintendo Switch</td>\n",
       "      <td>11/02/2023</td>\n",
       "      <td>2023-10-12</td>\n",
       "    </tr>\n",
       "    <tr>\n",
       "      <th>2</th>\n",
       "      <td>6550485</td>\n",
       "      <td>Star Ocean The Second Story R - Nintendo Switch</td>\n",
       "      <td>49.99</td>\n",
       "      <td>Nintendo Switch</td>\n",
       "      <td>11/02/2023</td>\n",
       "      <td>2023-10-12</td>\n",
       "    </tr>\n",
       "    <tr>\n",
       "      <th>3</th>\n",
       "      <td>6550485</td>\n",
       "      <td>Star Ocean The Second Story R - Nintendo Switch</td>\n",
       "      <td>49.99</td>\n",
       "      <td>Nintendo Switch</td>\n",
       "      <td>11/02/2023</td>\n",
       "      <td>2023-10-12</td>\n",
       "    </tr>\n",
       "  </tbody>\n",
       "</table>\n",
       "</div>"
      ],
      "text/plain": [
       "       SKU                                            Title  Price  \\\n",
       "0  6550485  Star Ocean The Second Story R - Nintendo Switch  49.99   \n",
       "1  6550485  Star Ocean The Second Story R - Nintendo Switch  49.99   \n",
       "2  6550485  Star Ocean The Second Story R - Nintendo Switch  49.99   \n",
       "3  6550485  Star Ocean The Second Story R - Nintendo Switch  49.99   \n",
       "\n",
       "          Platform Release Date        Date  \n",
       "0  Nintendo Switch   11/02/2023  2023-10-12  \n",
       "1  Nintendo Switch   11/02/2023  2023-10-12  \n",
       "2  Nintendo Switch   11/02/2023  2023-10-12  \n",
       "3  Nintendo Switch   11/02/2023  2023-10-12  "
      ]
     },
     "execution_count": 94,
     "metadata": {},
     "output_type": "execute_result"
    }
   ],
   "source": [
    "df = pd.read_csv(r\"C:\\Users\\theim\\Downloads\\PandASS\\BestBuyWebScraperDataset.csv\")\n",
    "df"
   ]
  },
  {
   "cell_type": "code",
   "execution_count": null,
   "id": "155faaeb",
   "metadata": {},
   "outputs": [],
   "source": [
    "# Appends data to the csv. No longer need the header. hover-info\n",
    "\n",
    "with open(r'C:\\Users\\theim\\Downloads\\PandASS\\BestBuyWebScraperDataset.csv', 'a+', newline='', encoding='UTF8') as f:\n",
    "    writer = csv.writer(f)\n",
    "    writer.writerow(data)"
   ]
  },
  {
   "cell_type": "code",
   "execution_count": 91,
   "id": "f2b64034",
   "metadata": {},
   "outputs": [],
   "source": [
    "# Creates a function to run through the whole process.\n",
    "\n",
    "def check_price():\n",
    "    url = 'https://www.bestbuy.com/site/star-ocean-the-second-story-r-nintendo-switch/6550485.p?skuId=6550485'\n",
    "    headers = {\"User-Agent\": \"Mozilla/5.0 (Windows NT 10.0; Win64; x64) AppleWebKit/537.36 (KHTML, like Gecko) Chrome/117.0.0.0 Safari/537.36\"}\n",
    "    page = requests.get(url, headers=headers)\n",
    "    soup1 = BeautifulSoup(page.content, \"html.parser\")\n",
    "    soup2 = BeautifulSoup(soup1.prettify(),\"html.parser\")\n",
    "    title = soup2.find(class_='heading-5 v-fw-regular').get_text()\n",
    "    price = soup2.find(class_='priceView-hero-price priceView-customer-price').get_text()\n",
    "    price = price.strip()[1:6] \n",
    "    title = title.strip() \n",
    "    \n",
    "    today = datetime.date.today()\n",
    "    release_date = soup2.find_all(class_='product-data-value body-copy')[1].text.strip()\n",
    "    sku = soup2.find_all(class_='product-data-value body-copy')[0].text.strip()\n",
    "    platform = soup2.find(class_='hover-info').text.strip()\n",
    "    \n",
    "    with open(r'C:\\Users\\theim\\Downloads\\PandASS\\BestBuyWebScraperDataset.csv', 'a+', newline='', encoding='UTF8') as f:\n",
    "        writer = csv.writer(f)\n",
    "        writer.writerow(data)\n",
    "    "
   ]
  },
  {
   "cell_type": "code",
   "execution_count": 92,
   "id": "e6e50e14",
   "metadata": {},
   "outputs": [
    {
     "ename": "KeyboardInterrupt",
     "evalue": "",
     "output_type": "error",
     "traceback": [
      "\u001b[1;31m---------------------------------------------------------------------------\u001b[0m",
      "\u001b[1;31mKeyboardInterrupt\u001b[0m                         Traceback (most recent call last)",
      "Cell \u001b[1;32mIn[92], line 5\u001b[0m\n\u001b[0;32m      3\u001b[0m \u001b[38;5;28;01mwhile\u001b[39;00m(\u001b[38;5;28;01mTrue\u001b[39;00m):\n\u001b[0;32m      4\u001b[0m     check_price()\n\u001b[1;32m----> 5\u001b[0m     time\u001b[38;5;241m.\u001b[39msleep(\u001b[38;5;241m5\u001b[39m)\n",
      "\u001b[1;31mKeyboardInterrupt\u001b[0m: "
     ]
    }
   ],
   "source": [
    "# Will set it to run at whatever interval you want, in seconds.\n",
    "\n",
    "while(True):\n",
    "    check_price()\n",
    "    time.sleep(5)"
   ]
  },
  {
   "cell_type": "code",
   "execution_count": null,
   "id": "92da3ad0",
   "metadata": {},
   "outputs": [],
   "source": []
  },
  {
   "cell_type": "code",
   "execution_count": null,
   "id": "7a3a8db6",
   "metadata": {},
   "outputs": [],
   "source": []
  },
  {
   "cell_type": "code",
   "execution_count": null,
   "id": "446d6f50",
   "metadata": {},
   "outputs": [],
   "source": []
  },
  {
   "cell_type": "code",
   "execution_count": null,
   "id": "d10c30ba",
   "metadata": {},
   "outputs": [],
   "source": []
  },
  {
   "cell_type": "code",
   "execution_count": null,
   "id": "2c78d361",
   "metadata": {},
   "outputs": [],
   "source": []
  },
  {
   "cell_type": "code",
   "execution_count": null,
   "id": "40bbc477",
   "metadata": {},
   "outputs": [],
   "source": []
  },
  {
   "cell_type": "code",
   "execution_count": null,
   "id": "c2ec52c6",
   "metadata": {},
   "outputs": [],
   "source": []
  },
  {
   "cell_type": "code",
   "execution_count": null,
   "id": "2490fa9c",
   "metadata": {},
   "outputs": [],
   "source": []
  }
 ],
 "metadata": {
  "kernelspec": {
   "display_name": "Python 3 (ipykernel)",
   "language": "python",
   "name": "python3"
  },
  "language_info": {
   "codemirror_mode": {
    "name": "ipython",
    "version": 3
   },
   "file_extension": ".py",
   "mimetype": "text/x-python",
   "name": "python",
   "nbconvert_exporter": "python",
   "pygments_lexer": "ipython3",
   "version": "3.11.5"
  }
 },
 "nbformat": 4,
 "nbformat_minor": 5
}
